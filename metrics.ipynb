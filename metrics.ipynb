{
 "cells": [
  {
   "cell_type": "code",
   "execution_count": 24,
   "metadata": {},
   "outputs": [],
   "source": [
    "import sklearn\n",
    "from sklearn.metrics import *\n",
    "\n",
    "import pandas as pd\n",
    "import numpy as np\n",
    "import matplotlib.pyplot as plt"
   ]
  },
  {
   "cell_type": "markdown",
   "metadata": {},
   "source": [
    "# Machine Learning Metrics\n",
    "\n",
    "Based on the metrics in [sklearn.metrics](https://scikit-learn.org/stable/modules/classes.html#module-sklearn.metrics)"
   ]
  },
  {
   "cell_type": "markdown",
   "metadata": {},
   "source": [
    "## Regression\n",
    "\n",
    "`metrics.explained_variance_score(y_true, …)` Explained variance regression score function\n",
    "\n",
    "`metrics.max_error(y_true, y_pred)` max_error metric calculates the maximum residual error.\n",
    "\n",
    "`metrics.mean_absolute_error(y_true, y_pred, *)` Mean absolute error regression loss\n",
    "\n",
    "`metrics.mean_squared_error(y_true, y_pred, *)` Mean squared error regression loss\n",
    "\n",
    "`metrics.mean_squared_log_error(y_true, y_pred, *)` Mean squared logarithmic error regression loss\n",
    "\n",
    "`metrics.median_absolute_error(y_true, y_pred, *)` Median absolute error regression loss\n",
    "\n",
    "`metrics.r2_score(y_true, y_pred, *[, …])` R^2 (coefficient of determination) regression score function.\n",
    "\n",
    "`metrics.mean_poisson_deviance(y_true, y_pred, *)` Mean Poisson deviance regression loss.\n",
    "\n",
    "`metrics.mean_gamma_deviance(y_true, y_pred, *)` Mean Gamma deviance regression loss.\n",
    "\n",
    "`metrics.mean_tweedie_deviance(y_true, y_pred, *)` Mean Tweedie deviance regression loss."
   ]
  },
  {
   "cell_type": "code",
   "execution_count": 34,
   "metadata": {},
   "outputs": [],
   "source": [
    "def analyze_reg_data(x, y, model):\n",
    "    model.fit(x.reshape(-1, 1), y)\n",
    "    y_pred = model.predict(x.reshape(-1, 1))\n",
    "\n",
    "    plt.figure()\n",
    "    plt.plot(x, y, \"ob\", markersize=8)\n",
    "    plt.plot(x, y_pred, \"or\", markersize=5)\n",
    "    \n",
    "    xx = np.linspace(0, 10, 100)\n",
    "    yy = model.coef_ * xx + model.intercept_\n",
    "    plt.plot(xx, yy, \"-r\")\n",
    "    \n",
    "    plt.show()\n",
    "\n",
    "    metrics = pd.DataFrame({\n",
    "        \"metric\": [\n",
    "            \"explained_variance_score\", \n",
    "             \"max_error\", \"mean_absolute_error\", \n",
    "             \"mean_squared_error\",\n",
    "             \"mean_squared_log_error\",\n",
    "             \"median_absolute_error\",\n",
    "             \"r2_score\"\n",
    "        ],\n",
    "        \"score\": [\n",
    "            explained_variance_score(y, y_pred),\n",
    "            max_error(y, y_pred),\n",
    "            mean_absolute_error(y, y_pred),\n",
    "            mean_squared_error(y, y_pred),\n",
    "            mean_squared_log_error(y, y_pred),\n",
    "            median_absolute_error(y, y_pred),\n",
    "            r2_score(y, y_pred),\n",
    "        ]\n",
    "    })\n",
    "\n",
    "    print(metrics)"
   ]
  },
  {
   "cell_type": "code",
   "execution_count": 35,
   "metadata": {},
   "outputs": [
    {
     "data": {
      "image/png": "[encoded data removed]",
      "text/plain": [
       "<Figure size 432x288 with 1 Axes>"
      ]
     },
     "metadata": {
      "needs_background": "light"
     },
     "output_type": "display_data"
    },
    {
     "name": "stdout",
     "output_type": "stream",
     "text": [
      "                     metric         score\n",
      "0  explained_variance_score  1.000000e+00\n",
      "1                 max_error  3.552714e-15\n",
      "2       mean_absolute_error  1.465494e-15\n",
      "3        mean_squared_error  3.332937e-30\n",
      "4    mean_squared_log_error  8.973293e-31\n",
      "5     median_absolute_error  1.332268e-15\n",
      "6                  r2_score  1.000000e+00\n"
     ]
    }
   ],
   "source": [
    "from sklearn.linear_model import LinearRegression\n",
    "\n",
    "x = np.arange(10)\n",
    "y = x\n",
    "\n",
    "model = LinearRegression()\n",
    "\n",
    "analyze_reg_data(x, y, model)"
   ]
  },
  {
   "cell_type": "code",
   "execution_count": 36,
   "metadata": {},
   "outputs": [
    {
     "name": "stdout",
     "output_type": "stream",
     "text": [
      "[0 1 2 3 4 5 6 7 8 9] [0 5 2 3 4 5 6 7 8 9]\n"
     ]
    },
    {
     "data": {
      "image/png": "[encoded data removed]",
      "text/plain": [
       "<Figure size 432x288 with 1 Axes>"
      ]
     },
     "metadata": {
      "needs_background": "light"
     },
     "output_type": "display_data"
    },
    {
     "name": "stdout",
     "output_type": "stream",
     "text": [
      "                     metric     score\n",
      "0  explained_variance_score  0.825483\n",
      "1                 max_error  3.006061\n",
      "2       mean_absolute_error  0.717576\n",
      "3        mean_squared_error  1.202424\n",
      "4    mean_squared_log_error  0.117428\n",
      "5     median_absolute_error  0.424242\n",
      "6                  r2_score  0.825483\n"
     ]
    }
   ],
   "source": [
    "from sklearn.linear_model import LinearRegression\n",
    "\n",
    "x = np.arange(10)\n",
    "y = x.copy()\n",
    "y[1] = 5\n",
    "print(x,y)\n",
    "\n",
    "model = LinearRegression()\n",
    "\n",
    "analyze_reg_data(x, y, model)"
   ]
  },
  {
   "cell_type": "code",
   "execution_count": null,
   "metadata": {},
   "outputs": [],
   "source": []
  }
 ],
 "metadata": {
  "kernelspec": {
   "display_name": "Python3 (ml)",
   "language": "python",
   "name": "ml"
  },
  "language_info": {
   "codemirror_mode": {
    "name": "ipython",
    "version": 3
   },
   "file_extension": ".py",
   "mimetype": "text/x-python",
   "name": "python",
   "nbconvert_exporter": "python",
   "pygments_lexer": "ipython3",
   "version": "3.7.6"
  }
 },
 "nbformat": 4,
 "nbformat_minor": 4
}
